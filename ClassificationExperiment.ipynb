{
 "cells": [
  {
   "cell_type": "code",
   "execution_count": 78,
   "metadata": {
    "collapsed": true
   },
   "outputs": [],
   "source": [
    "#Linear Classification"
   ]
  },
  {
   "cell_type": "code",
   "execution_count": 28,
   "metadata": {
    "collapsed": true
   },
   "outputs": [],
   "source": [
    "#导入包\n",
    "from numpy import *\n",
    "import matplotlib.pyplot as plt\n",
    "from sklearn.datasets import load_svmlight_file\n",
    "from sklearn.model_selection import train_test_split\n",
    "#import numpy as np\n",
    "import scipy"
   ]
  },
  {
   "cell_type": "code",
   "execution_count": 3,
   "metadata": {
    "collapsed": true
   },
   "outputs": [],
   "source": [
    "#获取数据\n",
    "def get_data(fileName):\n",
    "    data = load_svmlight_file(fileName)\n",
    "    return data[0],data[1]\n",
    "x_train,y_train = get_data(\"a9a\")\n",
    "x_test,y_test = get_data(\"a9a.t\")"
   ]
  },
  {
   "cell_type": "code",
   "execution_count": 4,
   "metadata": {},
   "outputs": [
    {
     "name": "stdout",
     "output_type": "stream",
     "text": [
      "123 (32561, 124)\n"
     ]
    },
    {
     "name": "stderr",
     "output_type": "stream",
     "text": [
      "C:\\Users\\acer\\Anaconda3\\lib\\site-packages\\scipy\\sparse\\compressed.py:774: SparseEfficiencyWarning: Changing the sparsity structure of a csr_matrix is expensive. lil_matrix is more efficient.\n",
      "  SparseEfficiencyWarning)\n"
     ]
    }
   ],
   "source": [
    "m,n = x_train.shape\n",
    "x = scipy.sparse.csr.csr_matrix(ones((m,n+1)))\n",
    "x[:,1:n+1] = x_train\n",
    "x_train = x\n",
    "#print(x_test.shape)\n",
    "#x_test少了一维特征\n",
    "x = scipy.sparse.csr.csr_matrix(zeros((x_test.shape[0],n)))\n",
    "print(n,x_train.shape)\n",
    "x[:,:n-1] = x_test;\n",
    "x_test = x\n",
    "x = scipy.sparse.csr.csr_matrix(ones((x_test.shape[0],n+1)));x[:,1:n+1] = x_test;x_test = x"
   ]
  },
  {
   "cell_type": "code",
   "execution_count": 69,
   "metadata": {
    "collapsed": true
   },
   "outputs": [],
   "source": [
    "#批量数量\n",
    "batch = 50"
   ]
  },
  {
   "cell_type": "code",
   "execution_count": 68,
   "metadata": {
    "collapsed": true
   },
   "outputs": [],
   "source": [
    "def predict(X,weights):\n",
    "    \n",
    "    y = X*weights\n",
    "\n",
    "    return y"
   ]
  },
  {
   "cell_type": "code",
   "execution_count": 74,
   "metadata": {
    "collapsed": true
   },
   "outputs": [],
   "source": [
    "#calculata the correct rate\n",
    "def cul_accuracy(y,label):\n",
    "    n = label.shape[1]\n",
    "    count = 0.0\n",
    "    #阈值选为1.0\n",
    "    theta = 1.0\n",
    "    y[y>=theta] = 1.0\n",
    "    y[y<=-theta] = -1.0 \n",
    "    for i in range(n):\n",
    "        if(y[i,:] == label[:,i]):\n",
    "            count +=1.0\n",
    "    \n",
    "    \n",
    "    return (count/n)"
   ]
  },
  {
   "cell_type": "code",
   "execution_count": 8,
   "metadata": {
    "collapsed": true
   },
   "outputs": [],
   "source": [
    "#损失函数\n",
    "delta =800\n",
    "def loss(y,label,weights):\n",
    "    m = y.shape[0]\n",
    "    a = sum(np.power(weights,2))\n",
    "    b = []\n",
    "    \n",
    "    for i in range(m):\n",
    "        c = 1-label[:,i]*y[i,:]\n",
    "        b.append(max(c,0))\n",
    "    return  ( 1/(delta) * a +  sum(b)) / (2*m)"
   ]
  },
  {
   "cell_type": "code",
   "execution_count": 55,
   "metadata": {},
   "outputs": [],
   "source": [
    "def SGD(weights,alpha,X,h,label,m,index):\n",
    "    #SGD\n",
    "    #index = random.randint(0,m)\n",
    "    end = index + batch\n",
    "    \n",
    "    \n",
    "    grad = mat(zeros(weights.shape))\n",
    "    for i in range(index,index+batch):\n",
    "        Wx = X[i,:] * weights \n",
    "        if(1 - label[:,i]*Wx   >= 0):\n",
    "            #print(linalg.norm(weights).shape)\n",
    "            grad += 1/delta*weights -  (label[:,i]* X[i,:]).T \n",
    "        else:\n",
    "            grad += 1/delta*weights\n",
    "    return grad/batch"
   ]
  },
  {
   "cell_type": "code",
   "execution_count": 22,
   "metadata": {
    "collapsed": true
   },
   "outputs": [],
   "source": [
    "def NAG(weights,alpha,x,h,y,m,v,index):\n",
    "    r = 0.9\n",
    "    grad = SGD(weights - r*v,alpha,x,h,y,m,index)\n",
    "    v = r*v + alpha*grad\n",
    "    weights = weights - v\n",
    "\n",
    "    return weights,v#,h_nag"
   ]
  },
  {
   "cell_type": "code",
   "execution_count": 23,
   "metadata": {
    "collapsed": true
   },
   "outputs": [],
   "source": [
    "def Adagrad(weights,alpha,x,h,y,m,G,index):\n",
    "    \n",
    "    grad = SGD(weights,alpha,x,h,y,m,index)\n",
    "    G = G+multiply(grad,grad)\n",
    "    ele = 1e-8\n",
    "    weights = (weights  - multiply(alpha / sqrt(G + ele) , grad))\n",
    "    return weights ,G"
   ]
  },
  {
   "cell_type": "code",
   "execution_count": 24,
   "metadata": {
    "collapsed": true
   },
   "outputs": [],
   "source": [
    "def RMSProp(weights,alpha,x,h,y,m,G,index):\n",
    "    r = 0.9\n",
    "    grad = SGD(weights,alpha,x,h,y,m,index)\n",
    "    G = r*G + (1-r)*multiply(grad,grad)\n",
    "    ele = 1e-8\n",
    "    weights = (weights  - multiply(alpha / sqrt(G + ele) , grad))\n",
    "    return weights ,G"
   ]
  },
  {
   "cell_type": "code",
   "execution_count": 25,
   "metadata": {
    "collapsed": true
   },
   "outputs": [],
   "source": [
    "def Adam(weights,x,h,y,m,G,moment,a,k,eta,index):\n",
    "    #给各内部参数赋值\n",
    "    #eta = 0.001\n",
    "    r = 0.999\n",
    "    b = 0.9\n",
    "    ele = 1e-8\n",
    "    \n",
    "    grad = SGD(weights,eta,x,h,y,m,index)\n",
    "\n",
    "    moment = b * moment + (1-b)*grad\n",
    "    G = r*G + (1-r)*multiply(grad,grad)\n",
    "    alpha = eta * sqrt(1- pow(r,k)) /(1 - pow(b,k))\n",
    "    #print(pow(r,k))\n",
    "    weights = weights - alpha * moment / sqrt(G+ele)\n",
    "    \n",
    "    return weights , G ,moment "
   ]
  },
  {
   "cell_type": "code",
   "execution_count": 26,
   "metadata": {},
   "outputs": [],
   "source": [
    "def GD(x_train,y_train,x_test,y_test,alpha = 0.03 , max_iter = 1000):\n",
    "    m,n = x_train.shape\n",
    "    weights_nag = mat(zeros(n)).T\n",
    "    weights_adagrad = mat(zeros(n)).T\n",
    "    weights_RMSProp = mat(zeros(n)).T\n",
    "    weights_adam = mat(zeros(n)).T\n",
    "    iter_list = []\n",
    "    train_list = []\n",
    "    test_list = []\n",
    "    y_train = mat(y_train)\n",
    "    y_test = mat(y_test)\n",
    "\n",
    "    #训练损失值\n",
    "    train_adagrad = []\n",
    "    train_nag =[]\n",
    "    train_RMSProp = []\n",
    "    train_adam =[]\n",
    "    \n",
    "    #准确度\n",
    "    acc_nag     = []\n",
    "    acc_adagrad =[]\n",
    "    acc_RMSProp = []\n",
    "    acc_adam    = []\n",
    "    \n",
    "    \n",
    "    G = weights_nag.copy()\n",
    "    G_RMSProp = weights_nag.copy()\n",
    "    G_adam = weights_nag.copy()\n",
    "    v = weights_nag.copy()\n",
    "    moment = weights_nag.copy()\n",
    "    #h_nag = sigmoid(x_train,weights_nag)\n",
    "    alpha_adam = alpha\n",
    "    for k in range(max_iter):\n",
    "      \n",
    "        print(k)\n",
    "        \n",
    "        #choose the random index\n",
    "        index = random.randint(0,m-batch)\n",
    "        h_adagrad = predict(x_train,weights_adagrad)\n",
    "        h_RMSProp = predict(x_train,weights_RMSProp)\n",
    "        h_adam = predict(x_train,weights_adam)\n",
    "        h_nag = predict(x_train,weights_nag)\n",
    "        #updata v,G,moment \n",
    "        #NAG\n",
    "        weights_nag,v= NAG(weights_nag,alpha,x_train,h_nag,y_train,m,v,index)\n",
    "        \n",
    "        #Adagrad\n",
    "        weights_adagrad,G = Adagrad(weights_adagrad,alpha,x_train,h_adagrad,y_train,m,G,index)\n",
    "        \n",
    "        #RMS\n",
    "        weights_RMSProp,G_RMSProp =  \\\n",
    "                RMSProp(weights_RMSProp,alpha,x_train,h_RMSProp,y_train,m,G_RMSProp,index)\n",
    "            \n",
    "        #Adam\n",
    "        weights_adam,G_adam,moment = \\\n",
    "                Adam(weights_adam,x_train,h_adam,y_train,m,G_adam,moment,alpha_adam,k+1,alpha,index)\n",
    "        \n",
    "        #print(weights_nag.shape,weights_adagrad.shape)\n",
    "        \n",
    "        \n",
    "        nag_loss = loss(h_nag,y_train,weights_nag)\n",
    "        adagrad_loss = loss(h_adagrad,y_train,weights_adagrad)\n",
    "        RMS_loss = loss(h_RMSProp,y_train,weights_RMSProp)\n",
    "        adam_loss = loss(h_adam,y_train,weights_adam)\n",
    "        \n",
    "        #添加进损失集合\n",
    "        iter_list.append(k)\n",
    "        train_nag.append(nag_loss)\n",
    "        train_adagrad.append(adagrad_loss)\n",
    "        train_RMSProp.append(RMS_loss)\n",
    "        train_adam.append(adam_loss)\n",
    "        \n",
    "        #添加进准确率集合\n",
    "        #acc_nag.append(cul_accuracy(h_nag,y_train))\n",
    "        #acc_adagrad.append(cul_accuracy(h_adagrad,y_train))\n",
    "        #acc_RMSProp.append(cul_accuracy(h_RMSProp,y_train))\n",
    "        #acc_adam.append(cul_accuracy(h_adam,y_train))\n",
    "        \n",
    "    return iter_list ,train_nag , train_adagrad,train_RMSProp,train_adam,acc_nag,acc_adagrad, acc_RMSProp, acc_adam"
   ]
  },
  {
   "cell_type": "code",
   "execution_count": 73,
   "metadata": {},
   "outputs": [
    {
     "name": "stdout",
     "output_type": "stream",
     "text": [
      "0\n",
      "1\n",
      "2\n",
      "3\n",
      "4\n",
      "5\n",
      "6\n",
      "7\n",
      "8\n",
      "9\n",
      "10\n",
      "11\n",
      "12\n",
      "13\n",
      "14\n",
      "15\n",
      "16\n",
      "17\n",
      "18\n",
      "19\n",
      "20\n",
      "21\n",
      "22\n",
      "23\n",
      "24\n",
      "25\n",
      "26\n",
      "27\n",
      "28\n",
      "29\n",
      "30\n",
      "31\n",
      "32\n",
      "33\n",
      "34\n",
      "35\n",
      "36\n",
      "37\n",
      "38\n",
      "39\n",
      "40\n",
      "41\n",
      "42\n",
      "43\n",
      "44\n",
      "45\n",
      "46\n",
      "47\n",
      "48\n",
      "49\n",
      "50\n",
      "51\n",
      "52\n",
      "53\n",
      "54\n",
      "55\n",
      "56\n",
      "57\n",
      "58\n",
      "59\n",
      "60\n",
      "61\n",
      "62\n",
      "63\n",
      "64\n",
      "65\n",
      "66\n",
      "67\n",
      "68\n",
      "69\n",
      "70\n",
      "71\n",
      "72\n",
      "73\n",
      "74\n",
      "75\n",
      "76\n",
      "77\n",
      "78\n",
      "79\n",
      "80\n",
      "81\n",
      "82\n",
      "83\n",
      "84\n",
      "85\n",
      "86\n",
      "87\n",
      "88\n",
      "89\n",
      "90\n",
      "91\n",
      "92\n",
      "93\n",
      "94\n",
      "95\n",
      "96\n",
      "97\n",
      "98\n",
      "99\n",
      "100\n",
      "101\n",
      "102\n",
      "103\n",
      "104\n",
      "105\n",
      "106\n",
      "107\n",
      "108\n",
      "109\n",
      "110\n",
      "111\n",
      "112\n",
      "113\n",
      "114\n",
      "115\n",
      "116\n",
      "117\n",
      "118\n",
      "119\n",
      "120\n",
      "121\n",
      "122\n",
      "123\n",
      "124\n",
      "125\n",
      "126\n",
      "127\n",
      "128\n",
      "129\n",
      "130\n",
      "131\n",
      "132\n",
      "133\n",
      "134\n",
      "135\n",
      "136\n",
      "137\n",
      "138\n",
      "139\n",
      "140\n",
      "141\n",
      "142\n",
      "143\n",
      "144\n",
      "145\n",
      "146\n",
      "147\n",
      "148\n",
      "149\n",
      "150\n",
      "151\n",
      "152\n",
      "153\n",
      "154\n",
      "155\n",
      "156\n",
      "157\n",
      "158\n",
      "159\n",
      "160\n",
      "161\n",
      "162\n",
      "163\n",
      "164\n",
      "165\n",
      "166\n",
      "167\n",
      "168\n",
      "169\n",
      "170\n",
      "171\n",
      "172\n",
      "173\n",
      "174\n",
      "175\n",
      "176\n",
      "177\n",
      "178\n",
      "179\n",
      "180\n",
      "181\n",
      "182\n",
      "183\n",
      "184\n",
      "185\n",
      "186\n",
      "187\n",
      "188\n",
      "189\n",
      "190\n",
      "191\n",
      "192\n",
      "193\n",
      "194\n",
      "195\n",
      "196\n",
      "197\n",
      "198\n",
      "199\n"
     ]
    }
   ],
   "source": [
    "iter_list ,train_nag , train_adagrad,train_RMSProp,train_adam,acc_nag,  acc_adagrad, acc_RMSProp, acc_adam =  \\\n",
    "                    GD(x_train, y_train,x_test,y_test,alpha = 0.01, max_iter =200) "
   ]
  },
  {
   "cell_type": "code",
   "execution_count": 79,
   "metadata": {},
   "outputs": [
    {
     "data": {
      "text/plain": [
       "<matplotlib.figure.Figure at 0x1ce23b63518>"
      ]
     },
     "metadata": {},
     "output_type": "display_data"
    },
    {
     "data": {
      "image/png": "[encoded data removed]",
      "text/plain": [
       "<matplotlib.figure.Figure at 0x1ce22230fd0>"
      ]
     },
     "metadata": {},
     "output_type": "display_data"
    }
   ],
   "source": [
    "plt.figure()\n",
    "plt.plot(iter_list,train_nag,color = 'red',linewidth = 2.0,label = 'NAG')\n",
    "plt.plot(iter_list,train_adagrad,linestyle = '--',color = 'green',linewidth = 2.0 , label = 'Adagrad')\n",
    "plt.plot(iter_list,train_RMSProp,linestyle = '-',color = 'blue',linewidth = 2.0 , label = 'RMSProp')\n",
    "plt.plot(iter_list,train_adam,linestyle = '-.',color = 'black',linewidth = 2.0, label = 'Adam')\n",
    "plt.xlabel('iter_times')  \n",
    "plt.ylabel('loss')\n",
    "plt.legend()\n",
    "plt.show()\n",
    "#SGD results in a shunk"
   ]
  },
  {
   "cell_type": "code",
   "execution_count": null,
   "metadata": {
    "collapsed": true
   },
   "outputs": [],
   "source": []
  }
 ],
 "metadata": {
  "kernelspec": {
   "display_name": "Python 3",
   "language": "python",
   "name": "python3"
  },
  "language_info": {
   "codemirror_mode": {
    "name": "ipython",
    "version": 3
   },
   "file_extension": ".py",
   "mimetype": "text/x-python",
   "name": "python",
   "nbconvert_exporter": "python",
   "pygments_lexer": "ipython3",
   "version": "3.6.2"
  }
 },
 "nbformat": 4,
 "nbformat_minor": 2
}
